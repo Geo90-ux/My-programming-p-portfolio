{
 "cells": [
  {
   "cell_type": "markdown",
   "id": "875d27cd-a6c4-4dea-92d8-3eefdad2a19f",
   "metadata": {},
   "source": [
    "# Gradio Quiz (In Class Practice)"
   ]
  },
  {
   "cell_type": "markdown",
   "id": "b2257111-d56b-4c25-8040-0457c7dbb09d",
   "metadata": {},
   "source": [
    "<p> Follow the instractions bellow and make a graphical user interace with Gradio</p>\n",
    "\n",
    "1. Make a Class called (ATM)\n",
    "2. Define Tow Functions (Deposit and Withdrawal)\n",
    "3. Make sure your program working perfectly\n",
    "4. Make an Interface with Gradio\n",
    "5. Submit your work to Google Classroom when you finish!"
   ]
  },
  {
   "cell_type": "code",
   "execution_count": 1,
   "id": "f8ea3ecd-e38f-4c55-87e2-46083ced8f7b",
   "metadata": {},
   "outputs": [
    {
     "name": "stdout",
     "output_type": "stream",
     "text": [
      "Collecting gradio\n",
      "  Downloading gradio-5.13.2-py3-none-any.whl.metadata (16 kB)\n",
      "Collecting aiofiles<24.0,>=22.0 (from gradio)\n",
      "  Downloading aiofiles-23.2.1-py3-none-any.whl.metadata (9.7 kB)\n",
      "Requirement already satisfied: anyio<5.0,>=3.0 in c:\\users\\user\\anaconda3\\lib\\site-packages (from gradio) (4.2.0)\n",
      "Collecting fastapi<1.0,>=0.115.2 (from gradio)\n",
      "  Downloading fastapi-0.115.7-py3-none-any.whl.metadata (27 kB)\n",
      "Collecting ffmpy (from gradio)\n",
      "  Downloading ffmpy-0.5.0-py3-none-any.whl.metadata (3.0 kB)\n",
      "Collecting gradio-client==1.6.0 (from gradio)\n",
      "  Downloading gradio_client-1.6.0-py3-none-any.whl.metadata (7.1 kB)\n",
      "Requirement already satisfied: httpx>=0.24.1 in c:\\users\\user\\anaconda3\\lib\\site-packages (from gradio) (0.27.0)\n",
      "Collecting huggingface-hub>=0.25.1 (from gradio)\n",
      "  Downloading huggingface_hub-0.28.0-py3-none-any.whl.metadata (13 kB)\n",
      "Requirement already satisfied: jinja2<4.0 in c:\\users\\user\\anaconda3\\lib\\site-packages (from gradio) (3.1.4)\n",
      "Requirement already satisfied: markupsafe~=2.0 in c:\\users\\user\\anaconda3\\lib\\site-packages (from gradio) (2.1.3)\n",
      "Requirement already satisfied: numpy<3.0,>=1.0 in c:\\users\\user\\anaconda3\\lib\\site-packages (from gradio) (1.26.4)\n",
      "Collecting orjson~=3.0 (from gradio)\n",
      "  Downloading orjson-3.10.15-cp312-cp312-win_amd64.whl.metadata (42 kB)\n",
      "Requirement already satisfied: packaging in c:\\users\\user\\anaconda3\\lib\\site-packages (from gradio) (24.1)\n",
      "Requirement already satisfied: pandas<3.0,>=1.0 in c:\\users\\user\\anaconda3\\lib\\site-packages (from gradio) (2.2.2)\n",
      "Requirement already satisfied: pillow<12.0,>=8.0 in c:\\users\\user\\anaconda3\\lib\\site-packages (from gradio) (10.4.0)\n",
      "Requirement already satisfied: pydantic>=2.0 in c:\\users\\user\\anaconda3\\lib\\site-packages (from gradio) (2.8.2)\n",
      "Collecting pydub (from gradio)\n",
      "  Downloading pydub-0.25.1-py2.py3-none-any.whl.metadata (1.4 kB)\n",
      "Collecting python-multipart>=0.0.18 (from gradio)\n",
      "  Downloading python_multipart-0.0.20-py3-none-any.whl.metadata (1.8 kB)\n",
      "Requirement already satisfied: pyyaml<7.0,>=5.0 in c:\\users\\user\\anaconda3\\lib\\site-packages (from gradio) (6.0.1)\n",
      "Collecting ruff>=0.2.2 (from gradio)\n",
      "  Downloading ruff-0.9.3-py3-none-win_amd64.whl.metadata (26 kB)\n",
      "Collecting safehttpx<0.2.0,>=0.1.6 (from gradio)\n",
      "  Downloading safehttpx-0.1.6-py3-none-any.whl.metadata (4.2 kB)\n",
      "Collecting semantic-version~=2.0 (from gradio)\n",
      "  Downloading semantic_version-2.10.0-py2.py3-none-any.whl.metadata (9.7 kB)\n",
      "Collecting starlette<1.0,>=0.40.0 (from gradio)\n",
      "  Downloading starlette-0.45.3-py3-none-any.whl.metadata (6.3 kB)\n",
      "Collecting tomlkit<0.14.0,>=0.12.0 (from gradio)\n",
      "  Downloading tomlkit-0.13.2-py3-none-any.whl.metadata (2.7 kB)\n",
      "Collecting typer<1.0,>=0.12 (from gradio)\n",
      "  Downloading typer-0.15.1-py3-none-any.whl.metadata (15 kB)\n",
      "Requirement already satisfied: typing-extensions~=4.0 in c:\\users\\user\\anaconda3\\lib\\site-packages (from gradio) (4.11.0)\n",
      "Collecting uvicorn>=0.14.0 (from gradio)\n",
      "  Downloading uvicorn-0.34.0-py3-none-any.whl.metadata (6.5 kB)\n",
      "Requirement already satisfied: fsspec in c:\\users\\user\\anaconda3\\lib\\site-packages (from gradio-client==1.6.0->gradio) (2024.6.1)\n",
      "Collecting websockets<15.0,>=10.0 (from gradio-client==1.6.0->gradio)\n",
      "  Downloading websockets-14.2-cp312-cp312-win_amd64.whl.metadata (7.0 kB)\n",
      "Requirement already satisfied: idna>=2.8 in c:\\users\\user\\anaconda3\\lib\\site-packages (from anyio<5.0,>=3.0->gradio) (3.7)\n",
      "Requirement already satisfied: sniffio>=1.1 in c:\\users\\user\\anaconda3\\lib\\site-packages (from anyio<5.0,>=3.0->gradio) (1.3.0)\n",
      "Requirement already satisfied: certifi in c:\\users\\user\\anaconda3\\lib\\site-packages (from httpx>=0.24.1->gradio) (2024.12.14)\n",
      "Requirement already satisfied: httpcore==1.* in c:\\users\\user\\anaconda3\\lib\\site-packages (from httpx>=0.24.1->gradio) (1.0.2)\n",
      "Requirement already satisfied: h11<0.15,>=0.13 in c:\\users\\user\\anaconda3\\lib\\site-packages (from httpcore==1.*->httpx>=0.24.1->gradio) (0.14.0)\n",
      "Requirement already satisfied: filelock in c:\\users\\user\\anaconda3\\lib\\site-packages (from huggingface-hub>=0.25.1->gradio) (3.13.1)\n",
      "Requirement already satisfied: requests in c:\\users\\user\\anaconda3\\lib\\site-packages (from huggingface-hub>=0.25.1->gradio) (2.32.3)\n",
      "Requirement already satisfied: tqdm>=4.42.1 in c:\\users\\user\\anaconda3\\lib\\site-packages (from huggingface-hub>=0.25.1->gradio) (4.66.5)\n",
      "Requirement already satisfied: python-dateutil>=2.8.2 in c:\\users\\user\\anaconda3\\lib\\site-packages (from pandas<3.0,>=1.0->gradio) (2.9.0.post0)\n",
      "Requirement already satisfied: pytz>=2020.1 in c:\\users\\user\\anaconda3\\lib\\site-packages (from pandas<3.0,>=1.0->gradio) (2024.1)\n",
      "Requirement already satisfied: tzdata>=2022.7 in c:\\users\\user\\anaconda3\\lib\\site-packages (from pandas<3.0,>=1.0->gradio) (2023.3)\n",
      "Requirement already satisfied: annotated-types>=0.4.0 in c:\\users\\user\\anaconda3\\lib\\site-packages (from pydantic>=2.0->gradio) (0.6.0)\n",
      "Requirement already satisfied: pydantic-core==2.20.1 in c:\\users\\user\\anaconda3\\lib\\site-packages (from pydantic>=2.0->gradio) (2.20.1)\n",
      "Requirement already satisfied: click>=8.0.0 in c:\\users\\user\\anaconda3\\lib\\site-packages (from typer<1.0,>=0.12->gradio) (8.1.7)\n",
      "Requirement already satisfied: shellingham>=1.3.0 in c:\\users\\user\\anaconda3\\lib\\site-packages (from typer<1.0,>=0.12->gradio) (1.5.0)\n",
      "Requirement already satisfied: rich>=10.11.0 in c:\\users\\user\\anaconda3\\lib\\site-packages (from typer<1.0,>=0.12->gradio) (13.7.1)\n",
      "Requirement already satisfied: colorama in c:\\users\\user\\anaconda3\\lib\\site-packages (from click>=8.0.0->typer<1.0,>=0.12->gradio) (0.4.6)\n",
      "Requirement already satisfied: six>=1.5 in c:\\users\\user\\anaconda3\\lib\\site-packages (from python-dateutil>=2.8.2->pandas<3.0,>=1.0->gradio) (1.16.0)\n",
      "Requirement already satisfied: markdown-it-py>=2.2.0 in c:\\users\\user\\anaconda3\\lib\\site-packages (from rich>=10.11.0->typer<1.0,>=0.12->gradio) (2.2.0)\n",
      "Requirement already satisfied: pygments<3.0.0,>=2.13.0 in c:\\users\\user\\anaconda3\\lib\\site-packages (from rich>=10.11.0->typer<1.0,>=0.12->gradio) (2.15.1)\n",
      "Requirement already satisfied: charset-normalizer<4,>=2 in c:\\users\\user\\anaconda3\\lib\\site-packages (from requests->huggingface-hub>=0.25.1->gradio) (3.3.2)\n",
      "Requirement already satisfied: urllib3<3,>=1.21.1 in c:\\users\\user\\anaconda3\\lib\\site-packages (from requests->huggingface-hub>=0.25.1->gradio) (2.2.3)\n",
      "Requirement already satisfied: mdurl~=0.1 in c:\\users\\user\\anaconda3\\lib\\site-packages (from markdown-it-py>=2.2.0->rich>=10.11.0->typer<1.0,>=0.12->gradio) (0.1.0)\n",
      "Downloading gradio-5.13.2-py3-none-any.whl (57.6 MB)\n",
      "   ---------------------------------------- 0.0/57.6 MB ? eta -:--:--\n",
      "   ---- ----------------------------------- 7.1/57.6 MB 33.6 MB/s eta 0:00:02\n",
      "   ----- ---------------------------------- 8.4/57.6 MB 34.7 MB/s eta 0:00:02\n",
      "   ---------- ----------------------------- 14.9/57.6 MB 24.1 MB/s eta 0:00:02\n",
      "   --------------- ------------------------ 22.5/57.6 MB 27.4 MB/s eta 0:00:02\n",
      "   --------------- ------------------------ 22.5/57.6 MB 27.4 MB/s eta 0:00:02\n",
      "   --------------- ------------------------ 22.5/57.6 MB 27.4 MB/s eta 0:00:02\n",
      "   --------------- ------------------------ 22.8/57.6 MB 15.3 MB/s eta 0:00:03\n",
      "   -------------------- ------------------- 29.1/57.6 MB 17.1 MB/s eta 0:00:02\n",
      "   -------------------- ------------------- 29.9/57.6 MB 17.4 MB/s eta 0:00:02\n",
      "   -------------------- ------------------- 29.9/57.6 MB 17.4 MB/s eta 0:00:02\n",
      "   -------------------- ------------------- 29.9/57.6 MB 17.4 MB/s eta 0:00:02\n",
      "   -------------------- ------------------- 30.1/57.6 MB 12.2 MB/s eta 0:00:03\n",
      "   ------------------------ --------------- 35.4/57.6 MB 12.8 MB/s eta 0:00:02\n",
      "   ------------------------ --------------- 35.4/57.6 MB 12.8 MB/s eta 0:00:02\n",
      "   ------------------------ --------------- 35.4/57.6 MB 12.8 MB/s eta 0:00:02\n",
      "   ------------------------ --------------- 35.4/57.6 MB 12.8 MB/s eta 0:00:02\n",
      "   ------------------------- -------------- 36.7/57.6 MB 10.1 MB/s eta 0:00:03\n",
      "   ---------------------------- ----------- 41.7/57.6 MB 10.9 MB/s eta 0:00:02\n",
      "   ------------------------------ --------- 43.8/57.6 MB 11.2 MB/s eta 0:00:02\n",
      "   ------------------------------ --------- 43.8/57.6 MB 11.2 MB/s eta 0:00:02\n",
      "   ------------------------------ --------- 43.8/57.6 MB 11.2 MB/s eta 0:00:02\n",
      "   -------------------------------- ------- 46.9/57.6 MB 10.0 MB/s eta 0:00:02\n",
      "   ------------------------------------ --- 52.2/57.6 MB 10.6 MB/s eta 0:00:01\n",
      "   ------------------------------------ --- 53.2/57.6 MB 10.7 MB/s eta 0:00:01\n",
      "   ------------------------------------ --- 53.2/57.6 MB 10.7 MB/s eta 0:00:01\n",
      "   ------------------------------------- -- 54.5/57.6 MB 9.8 MB/s eta 0:00:01\n",
      "   ---------------------------------------  57.4/57.6 MB 10.0 MB/s eta 0:00:01\n",
      "   ---------------------------------------- 57.6/57.6 MB 9.6 MB/s eta 0:00:00\n",
      "Downloading gradio_client-1.6.0-py3-none-any.whl (321 kB)\n",
      "Downloading aiofiles-23.2.1-py3-none-any.whl (15 kB)\n",
      "Downloading fastapi-0.115.7-py3-none-any.whl (94 kB)\n",
      "Downloading huggingface_hub-0.28.0-py3-none-any.whl (464 kB)\n",
      "Downloading orjson-3.10.15-cp312-cp312-win_amd64.whl (133 kB)\n",
      "Downloading python_multipart-0.0.20-py3-none-any.whl (24 kB)\n",
      "Downloading ruff-0.9.3-py3-none-win_amd64.whl (10.8 MB)\n",
      "   ---------------------------------------- 0.0/10.8 MB ? eta -:--:--\n",
      "   --------------- ------------------------ 4.2/10.8 MB 19.4 MB/s eta 0:00:01\n",
      "   ------------------------------ --------- 8.1/10.8 MB 19.4 MB/s eta 0:00:01\n",
      "   ------------------------------ --------- 8.1/10.8 MB 19.4 MB/s eta 0:00:01\n",
      "   ------------------------------ --------- 8.1/10.8 MB 19.4 MB/s eta 0:00:01\n",
      "   ------------------------------ --------- 8.1/10.8 MB 19.4 MB/s eta 0:00:01\n",
      "   ---------------------------------- ----- 9.4/10.8 MB 7.3 MB/s eta 0:00:01\n",
      "   ---------------------------------------- 10.8/10.8 MB 7.4 MB/s eta 0:00:00\n",
      "Downloading safehttpx-0.1.6-py3-none-any.whl (8.7 kB)\n",
      "Downloading semantic_version-2.10.0-py2.py3-none-any.whl (15 kB)\n",
      "Downloading starlette-0.45.3-py3-none-any.whl (71 kB)\n",
      "Downloading tomlkit-0.13.2-py3-none-any.whl (37 kB)\n",
      "Downloading typer-0.15.1-py3-none-any.whl (44 kB)\n",
      "Downloading uvicorn-0.34.0-py3-none-any.whl (62 kB)\n",
      "Downloading ffmpy-0.5.0-py3-none-any.whl (6.0 kB)\n",
      "Downloading pydub-0.25.1-py2.py3-none-any.whl (32 kB)\n",
      "Downloading websockets-14.2-cp312-cp312-win_amd64.whl (164 kB)\n",
      "Installing collected packages: pydub, websockets, tomlkit, semantic-version, ruff, python-multipart, orjson, ffmpy, aiofiles, uvicorn, starlette, huggingface-hub, typer, safehttpx, gradio-client, fastapi, gradio\n",
      "  Attempting uninstall: tomlkit\n",
      "    Found existing installation: tomlkit 0.11.1\n",
      "    Uninstalling tomlkit-0.11.1:\n",
      "      Successfully uninstalled tomlkit-0.11.1\n",
      "  Attempting uninstall: typer\n",
      "    Found existing installation: typer 0.9.0\n",
      "    Uninstalling typer-0.9.0:\n",
      "      Successfully uninstalled typer-0.9.0\n",
      "Successfully installed aiofiles-23.2.1 fastapi-0.115.7 ffmpy-0.5.0 gradio-5.13.2 gradio-client-1.6.0 huggingface-hub-0.28.0 orjson-3.10.15 pydub-0.25.1 python-multipart-0.0.20 ruff-0.9.3 safehttpx-0.1.6 semantic-version-2.10.0 starlette-0.45.3 tomlkit-0.13.2 typer-0.15.1 uvicorn-0.34.0 websockets-14.2\n"
     ]
    }
   ],
   "source": [
    "# Start your coding here..\n",
    "!pip install gradio"
   ]
  },
  {
   "cell_type": "code",
   "execution_count": 3,
   "id": "3b165a05-39aa-4870-9f0e-626ce5d2dd38",
   "metadata": {},
   "outputs": [
    {
     "name": "stdout",
     "output_type": "stream",
     "text": [
      "* Running on local URL:  http://127.0.0.1:7861\n",
      "\n",
      "To create a public link, set `share=True` in `launch()`.\n"
     ]
    },
    {
     "data": {
      "text/html": [
       "<div><iframe src=\"http://127.0.0.1:7861/\" width=\"100%\" height=\"500\" allow=\"autoplay; camera; microphone; clipboard-read; clipboard-write;\" frameborder=\"0\" allowfullscreen></iframe></div>"
      ],
      "text/plain": [
       "<IPython.core.display.HTML object>"
      ]
     },
     "metadata": {},
     "output_type": "display_data"
    },
    {
     "data": {
      "text/plain": []
     },
     "execution_count": 3,
     "metadata": {},
     "output_type": "execute_result"
    }
   ],
   "source": [
    "import gradio as gr\n",
    "class ATM:\n",
    "    def __init__(self, balance=0):\n",
    "        self.balance = balance\n",
    "    def deposit(self, amount):\n",
    "        if amount > 0:\n",
    "            self.balance += amount\n",
    "            return f\"Deposit Successful! New Balance: {self.balance}\"\n",
    "        return \"Invalid deposit amount!\"\n",
    "    def withdraw(self, amount):\n",
    "        if 0 < amount <= self.balance:\n",
    "            self.balance -= amount\n",
    "            return f\"Withdrawal Successful! New Balance: {self.balance}\"\n",
    "        return \"Insufficient funds or invalid amount!\"\n",
    "atm = ATM()\n",
    "def atm_interface(action, amount):\n",
    "    amount = float(amount)\n",
    "    if action == \"Deposit\":\n",
    "        return atm.deposit(amount)\n",
    "    elif action == \"Withdraw\":\n",
    "        return atm.withdraw(amount)\n",
    "    return \"Invalid action!\"\n",
    "demo = gr.Interface(\n",
    "    fn=atm_interface,\n",
    "    inputs=[\n",
    "        gr.Radio([\"Deposit\", \"Withdraw\"], label=\"Choose Action\"),\n",
    "        gr.Number(label=\"Enter Amount\")\n",
    "    ],\n",
    "    outputs=\"text\",\n",
    "    title=\"ATM Machine\",\n",
    "    description=\"Deposit or withdraw money using this simple ATM interface.\"\n",
    ")\n",
    "\n",
    "demo.launch()"
   ]
  },
  {
   "cell_type": "code",
   "execution_count": null,
   "id": "d54a3744-9e98-4be0-9557-b630876fbccc",
   "metadata": {},
   "outputs": [],
   "source": []
  }
 ],
 "metadata": {
  "kernelspec": {
   "display_name": "Python 3 (ipykernel)",
   "language": "python",
   "name": "python3"
  },
  "language_info": {
   "codemirror_mode": {
    "name": "ipython",
    "version": 3
   },
   "file_extension": ".py",
   "mimetype": "text/x-python",
   "name": "python",
   "nbconvert_exporter": "python",
   "pygments_lexer": "ipython3",
   "version": "3.12.7"
  }
 },
 "nbformat": 4,
 "nbformat_minor": 5
}
