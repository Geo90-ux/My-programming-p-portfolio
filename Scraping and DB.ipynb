{
 "cells": [
  {
   "cell_type": "markdown",
   "id": "5b65e928",
   "metadata": {},
   "source": [
    "# Scraping and DB in Class Quiz"
   ]
  },
  {
   "cell_type": "markdown",
   "id": "3f05f76d",
   "metadata": {},
   "source": [
    "1. Use the link \"https://quotes.toscrape.com/\" and scrap the Quotes <b>Titles</b>\n",
    "\n",
    "<i>Hint: 10 Titles for the first page</i>"
   ]
  },
  {
   "cell_type": "code",
   "execution_count": 1,
   "id": "16b129b7",
   "metadata": {},
   "outputs": [
    {
     "name": "stdout",
     "output_type": "stream",
     "text": [
      "1: “The world as we have created it is a process of our thinking. It cannot be changed without changing our thinking.”\n",
      "2: “It is our choices, Harry, that show what we truly are, far more than our abilities.”\n",
      "3: “There are only two ways to live your life. One is as though nothing is a miracle. The other is as though everything is a miracle.”\n",
      "4: “The person, be it gentleman or lady, who has not pleasure in a good novel, must be intolerably stupid.”\n",
      "5: “Imperfection is beauty, madness is genius and it's better to be absolutely ridiculous than absolutely boring.”\n",
      "6: “Try not to become a man of success. Rather become a man of value.”\n",
      "7: “It is better to be hated for what you are than to be loved for what you are not.”\n",
      "8: “I have not failed. I've just found 10,000 ways that won't work.”\n",
      "9: “A woman is like a tea bag; you never know how strong it is until it's in hot water.”\n",
      "10: “A day without sunshine is like, you know, night.”\n"
     ]
    }
   ],
   "source": [
    "# Start writing your code here\n",
    "import requests\n",
    "from bs4 import BeautifulSoup\n",
    "url = \"https://quotes.toscrape.com/\"\n",
    "response = requests.get(url)\n",
    "soup = BeautifulSoup(response.text, \"html.parser\")\n",
    "quotes = soup.find_all(\"span\", class_=\"text\")\n",
    "for i, quote in enumerate(quotes[:10], start=1):\n",
    "    print(f\"{i}: {quote.text}\")"
   ]
  },
  {
   "cell_type": "markdown",
   "id": "455d8c77",
   "metadata": {},
   "source": [
    "2. Make a Database with a table and some attibutes and perform the following queries:\n",
    "\n",
    "a. Insert some data to your table including your own name and student ID.\n",
    "\n",
    "b. Connect the database to Python and retrive the data from MySQL"
   ]
  },
  {
   "cell_type": "code",
   "execution_count": 4,
   "id": "086fd8fe",
   "metadata": {},
   "outputs": [
    {
     "name": "stdout",
     "output_type": "stream",
     "text": [
      "(1, 'George Ghlyel', 'S24150', 's24150@st.kic.ac.jp')\n"
     ]
    }
   ],
   "source": [
    "# Start writing your code here\n",
    "import mysql.connector\n",
    "connection = mysql.connector.connect(\n",
    "    host=\"localhost\",     \n",
    "    user=\"root\",          \n",
    "    password=\"\",          \n",
    "    database=\"student_records\" \n",
    ")\n",
    "cursor = connection.cursor()\n",
    "cursor.execute(\"SELECT * FROM students\")\n",
    "records = cursor.fetchall()\n",
    "for record in records:\n",
    "    print(record)\n",
    "cursor.close()\n",
    "connection.close()"
   ]
  },
  {
   "cell_type": "code",
   "execution_count": null,
   "id": "ef8bb8ba-c9e5-474f-aca5-d7a567e1a389",
   "metadata": {},
   "outputs": [],
   "source": []
  },
  {
   "cell_type": "code",
   "execution_count": null,
   "id": "2f35aeb7-5eff-45a4-b2f8-154355222b3b",
   "metadata": {},
   "outputs": [],
   "source": []
  }
 ],
 "metadata": {
  "kernelspec": {
   "display_name": "Python 3 (ipykernel)",
   "language": "python",
   "name": "python3"
  },
  "language_info": {
   "codemirror_mode": {
    "name": "ipython",
    "version": 3
   },
   "file_extension": ".py",
   "mimetype": "text/x-python",
   "name": "python",
   "nbconvert_exporter": "python",
   "pygments_lexer": "ipython3",
   "version": "3.12.7"
  }
 },
 "nbformat": 4,
 "nbformat_minor": 5
}
