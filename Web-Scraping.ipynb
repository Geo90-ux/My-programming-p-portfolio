{
 "cells": [
  {
   "cell_type": "markdown",
   "metadata": {},
   "source": [
    "# Web Scraping and Database Exercises Assignment"
   ]
  },
  {
   "cell_type": "markdown",
   "metadata": {},
   "source": [
    "**Q1: Import any libraries you think you'll need to scrape a website.**"
   ]
  },
  {
   "cell_type": "code",
   "execution_count": 1,
   "metadata": {},
   "outputs": [],
   "source": [
    "# Your code here\n",
    "import requests\n",
    "from bs4 import BeautifulSoup"
   ]
  },
  {
   "cell_type": "markdown",
   "metadata": {},
   "source": [
    "**Q2: Use requests library and BeautifulSoup to connect to http://books.toscrape.com/ and get the prices of five start rating only.**"
   ]
  },
  {
   "cell_type": "code",
   "execution_count": 2,
   "metadata": {},
   "outputs": [
    {
     "name": "stdout",
     "output_type": "stream",
     "text": [
      "Prices of five star rating books:\n",
      "Â£54.23\n",
      "Â£17.46\n",
      "Â£52.29\n",
      "Â£35.02\n"
     ]
    }
   ],
   "source": [
    "# Your code here\n",
    "import requests\n",
    "from bs4 import BeautifulSoup\n",
    "url = \"http://books.toscrape.com/\"\n",
    "response = requests.get(url)\n",
    "soup = BeautifulSoup(response.text, 'html.parser')\n",
    "books = soup.find_all('article', class_='product_pod')\n",
    "print(\"Prices of five star rating books:\")\n",
    "for book in books:\n",
    "    rating = book.find('p', class_='star-rating')['class'][1]\n",
    "    if rating == \"Five\":\n",
    "        price = book.find('p', class_='price_color').text\n",
    "        print(price)"
   ]
  },
  {
   "cell_type": "markdown",
   "metadata": {},
   "source": [
    "**Q3: Get the books that related to Science Fiction part.**"
   ]
  },
  {
   "cell_type": "code",
   "execution_count": 3,
   "metadata": {},
   "outputs": [
    {
     "name": "stdout",
     "output_type": "stream",
     "text": [
      "Science Fiction Books:\n",
      "Title: Mesaerion: The Best Science Fiction Stories 1800-1849, Price: Â£37.59\n",
      "Title: Join, Price: Â£35.67\n",
      "Title: William Shakespeare's Star Wars: Verily, A New Hope (William Shakespeare's Star Wars #4), Price: Â£43.30\n",
      "Title: The Project, Price: Â£10.65\n",
      "Title: Soft Apocalypse, Price: Â£26.12\n",
      "Title: Sleeping Giants (Themis Files #1), Price: Â£48.74\n",
      "Title: Arena, Price: Â£21.36\n",
      "Title: Foundation (Foundation (Publication Order) #1), Price: Â£32.42\n",
      "Title: The Restaurant at the End of the Universe (Hitchhiker's Guide to the Galaxy #2), Price: Â£10.92\n",
      "Title: Ready Player One, Price: Â£19.07\n",
      "Title: Life, the Universe and Everything (Hitchhiker's Guide to the Galaxy #3), Price: Â£33.26\n",
      "Title: Dune (Dune #1), Price: Â£54.86\n",
      "Title: Do Androids Dream of Electric Sheep? (Blade Runner #1), Price: Â£51.48\n",
      "Title: Three Wishes (River of Time: California #1), Price: Â£44.18\n",
      "Title: The Last Girl (The Dominion Trilogy #1), Price: Â£36.26\n",
      "Title: Having the Barbarian's Baby (Ice Planet Barbarians #7.5), Price: Â£34.96\n"
     ]
    }
   ],
   "source": [
    "# Your code here\n",
    "import requests\n",
    "from bs4 import BeautifulSoup\n",
    "url = \"http://books.toscrape.com/catalogue/category/books/science-fiction_16/index.html\"\n",
    "response = requests.get(url)\n",
    "soup = BeautifulSoup(response.text, 'html.parser')\n",
    "books = soup.find_all('article', class_='product_pod')\n",
    "print(\"Science Fiction Books:\")\n",
    "for book in books:\n",
    "    title = book.find('h3').find('a')['title']\n",
    "    price = book.find('p', class_='price_color').text\n",
    "    print(f\"Title: {title}, Price: {price}\")"
   ]
  },
  {
   "cell_type": "markdown",
   "metadata": {},
   "source": [
    "<hr>"
   ]
  },
  {
   "cell_type": "markdown",
   "metadata": {},
   "source": [
    "**Q4: Follow the Instruction and complete the Tasks below**\n",
    "\n",
    "1. Make a dictionary named **mybooks** with four keys and at least three values for each key.\n",
    "\n",
    "<i>keys: Title, Author, ISBN, Pages</i>\n",
    "\n",
    "2. Convert the dictionary to DataFrame using Pandas library.\n",
    "\n",
    "3. Update the DataFrame by adding a new column (Publisher along with values).\n",
    "\n",
    "4. Make a database (library) using your virtual web-server (xampp). \n",
    "\n",
    "5. Make a table called (book_records) with simialr column names as your dictionary (ID, Title, Author, ISBN, Pages, Publisher). Hint: ID should be automatic\n",
    "\n",
    "6. Prepare to connect Python with MySQL in your Jupyter Notebook.\n",
    "\n",
    "7. Make an insert query and send the DataFrame contents to your database table.\n",
    "\n",
    "8. Make sure that all the data successfully trasfered from Python to Database. "
   ]
  },
  {
   "cell_type": "code",
   "execution_count": 8,
   "metadata": {},
   "outputs": [
    {
     "name": "stdout",
     "output_type": "stream",
     "text": [
      "                      Title       Author   ISBN  Pages Publisher\n",
      "0             Python Basics     John Doe  12345    250     Packt\n",
      "1                 Learn SQL   Jane Smith  67890    300   OReilly\n",
      "2  Data Science with Python  Alice Brown  11223    450  Springer\n"
     ]
    }
   ],
   "source": [
    "# Your code here\n",
    "import pandas as pd\n",
    "mybooks = {\n",
    "    'Title': ['Python Basics', 'Learn SQL', 'Data Science with Python'],\n",
    "    'Author': ['John Doe', 'Jane Smith', 'Alice Brown'],\n",
    "    'ISBN': ['12345', '67890', '11223'],\n",
    "    'Pages': [250, 300, 450]\n",
    "}\n",
    "df = pd.DataFrame(mybooks)\n",
    "df['Publisher'] = ['Packt', 'OReilly', 'Springer']\n",
    "print(df)"
   ]
  },
  {
   "cell_type": "code",
   "execution_count": 9,
   "metadata": {},
   "outputs": [
    {
     "name": "stdout",
     "output_type": "stream",
     "text": [
      "(1, 'Book 1', 'Author 1', '123-456-789', 200, 'Publisher 1')\n",
      "(2, 'Book 2', 'Author 2', '987-654-321', 150, 'Publisher 2')\n",
      "(3, 'Book 3', 'Author 3', '555-555-555', 250, 'Publisher 3')\n",
      "(4, 'Python Basics', 'John Doe', '12345', 250, 'Packt')\n",
      "(5, 'Learn SQL', 'Jane Smith', '67890', 300, 'OReilly')\n",
      "(6, 'Data Science with Python', 'Alice Brown', '11223', 450, 'Springer')\n",
      "(7, 'Python Basics', 'John Doe', '12345', 250, 'Packt')\n",
      "(8, 'Learn SQL', 'Jane Smith', '67890', 300, 'OReilly')\n",
      "(9, 'Data Science with Python', 'Alice Brown', '11223', 450, 'Springer')\n",
      "(10, 'Python Basics', 'John Doe', '12345', 250, 'Packt')\n",
      "(11, 'Learn SQL', 'Jane Smith', '67890', 300, 'OReilly')\n",
      "(12, 'Data Science with Python', 'Alice Brown', '11223', 450, 'Springer')\n",
      "(13, 'Book 1', 'Author 1', '123-456-789', 200, 'Publisher 1')\n",
      "(14, 'Book 2', 'Author 2', '987-654-321', 150, 'Publisher 2')\n",
      "(15, 'Book 3', 'Author 3', '555-555-555', 250, 'Publisher 3')\n",
      "(16, 'Book 1', 'Author 1', '123-456-789', 200, 'Publisher 1')\n",
      "(17, 'Book 2', 'Author 2', '987-654-321', 150, 'Publisher 2')\n",
      "(18, 'Book 3', 'Author 3', '555-555-555', 250, 'Publisher 3')\n",
      "(19, 'Book 1', 'Author 1', '123-456-789', 200, 'Publisher 1')\n",
      "(20, 'Book 2', 'Author 2', '987-654-321', 150, 'Publisher 2')\n",
      "(21, 'Book 3', 'Author 3', '555-555-555', 250, 'Publisher 3')\n",
      "(22, 'Book 1', 'Author 1', '123-456-789', 200, 'Publisher 1')\n",
      "(23, 'Book 2', 'Author 2', '987-654-321', 150, 'Publisher 2')\n",
      "(24, 'Book 3', 'Author 3', '555-555-555', 250, 'Publisher 3')\n",
      "(25, 'Book 1', 'Author 1', '123-456-789', 200, 'Publisher 1')\n",
      "(26, 'Book 2', 'Author 2', '987-654-321', 150, 'Publisher 2')\n",
      "(27, 'Book 3', 'Author 3', '555-555-555', 250, 'Publisher 3')\n",
      "(28, 'Book 1', 'Author 1', '123-456-789', 200, 'Publisher 1')\n",
      "(29, 'Book 2', 'Author 2', '987-654-321', 150, 'Publisher 2')\n",
      "(30, 'Book 3', 'Author 3', '555-555-555', 250, 'Publisher 3')\n",
      "(31, 'Book 1', 'Author 1', '123-456-789', 200, 'Publisher 1')\n",
      "(32, 'Book 2', 'Author 2', '987-654-321', 150, 'Publisher 2')\n",
      "(33, 'Book 3', 'Author 3', '555-555-555', 250, 'Publisher 3')\n"
     ]
    }
   ],
   "source": [
    "import mysql.connector\n",
    "import pandas as pd\n",
    "data = {\n",
    "    'Title': ['Book 1', 'Book 2', 'Book 3'],\n",
    "    'Author': ['Author 1', 'Author 2', 'Author 3'],\n",
    "    'ISBN': ['123-456-789', '987-654-321', '555-555-555'],\n",
    "    'Pages': [200, 150, 250],\n",
    "    'Publisher': ['Publisher 1', 'Publisher 2', 'Publisher 3']\n",
    "}\n",
    "\n",
    "df = pd.DataFrame(data)\n",
    "connection = mysql.connector.connect(\n",
    "    host=\"localhost\",\n",
    "    user=\"root\",\n",
    "    password=\"\",\n",
    "    database=\"library\"\n",
    ")\n",
    "cursor = connection.cursor()\n",
    "for _, row in df.iterrows():\n",
    "    insert_query = \"\"\"\n",
    "        INSERT INTO book_records (Title, Author, ISBN, Pages, Publisher)\n",
    "        VALUES (%s, %s, %s, %s, %s)\n",
    "    \"\"\"\n",
    "    cursor.execute(insert_query, tuple(row))\n",
    "connection.commit()\n",
    "cursor.execute(\"SELECT * FROM book_records\")\n",
    "for record in cursor.fetchall():\n",
    "    print(record)\n",
    "cursor.close()\n",
    "connection.close()"
   ]
  },
  {
   "cell_type": "code",
   "execution_count": null,
   "metadata": {},
   "outputs": [],
   "source": []
  },
  {
   "cell_type": "code",
   "execution_count": null,
   "metadata": {},
   "outputs": [],
   "source": []
  }
 ],
 "metadata": {
  "kernelspec": {
   "display_name": "Python 3 (ipykernel)",
   "language": "python",
   "name": "python3"
  },
  "language_info": {
   "codemirror_mode": {
    "name": "ipython",
    "version": 3
   },
   "file_extension": ".py",
   "mimetype": "text/x-python",
   "name": "python",
   "nbconvert_exporter": "python",
   "pygments_lexer": "ipython3",
   "version": "3.12.7"
  }
 },
 "nbformat": 4,
 "nbformat_minor": 4
}
